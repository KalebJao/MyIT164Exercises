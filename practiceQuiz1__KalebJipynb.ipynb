{
  "nbformat": 4,
  "nbformat_minor": 0,
  "metadata": {
    "colab": {
      "provenance": [],
      "collapsed_sections": []
    },
    "kernelspec": {
      "name": "python3",
      "display_name": "Python 3"
    },
    "language_info": {
      "name": "python"
    }
  },
  "cells": [
    {
      "cell_type": "code",
      "execution_count": 11,
      "metadata": {
        "colab": {
          "base_uri": "https://localhost:8080/"
        },
        "id": "pz7X-MEJQE_f",
        "outputId": "da8aa1ea-5bd7-46ea-e5e4-5de74a738ddf"
      },
      "outputs": [
        {
          "output_type": "stream",
          "name": "stdout",
          "text": [
            "provide the width of the rectangle:1\n",
            "What is the height of the rectangle:3\n",
            "The perimeter of the rectangle with a height of 3.0 and a width of 1.0 has a perimeter of 8.0 and an area of 3.0\n"
          ]
        }
      ],
      "source": [
        "#Question 1\n",
        "rectangleWidth= float(input('provide the width of the rectangle:'))\n",
        "rectangleHeight= float(input('What is the height of the rectangle:'))\n",
        "perimeter= 2*(rectangleWidth + rectangleHeight)\n",
        "area= (rectangleWidth * rectangleHeight)\n",
        "\n",
        "print('The perimeter of the rectangle with a height of' , rectangleHeight, 'and a width of', rectangleWidth , 'has a perimeter of', perimeter, 'and an area of' , area)"
      ]
    },
    {
      "cell_type": "code",
      "source": [
        "weight= float(input('what is your current weight in lbs:'))\n",
        "height= float(input('what is your current height in inches:'))\n",
        "heightSquared= (height*height)\n",
        "BMI= (weight/heightSquared)*703\n",
        "print('the BMI of you with weight', weight, 'and height', height, 'is :{:.1f}'.format(BMI))"
      ],
      "metadata": {
        "colab": {
          "base_uri": "https://localhost:8080/"
        },
        "id": "JbmCJuzgWwxy",
        "outputId": "84b0dd8e-ad3a-49fd-a960-f74dc78f066c"
      },
      "execution_count": 40,
      "outputs": [
        {
          "output_type": "stream",
          "name": "stdout",
          "text": [
            "what is your current weight in lbs:133\n",
            "what is your current height in inches:62\n",
            "the BMI of you with weight 133.0 and height 62.0 is :24.3\n"
          ]
        }
      ]
    }
  ]
}