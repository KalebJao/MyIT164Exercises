{
  "nbformat": 4,
  "nbformat_minor": 0,
  "metadata": {
    "colab": {
      "name": "KalebJ_Birthday.ipynb",
      "provenance": []
    },
    "kernelspec": {
      "name": "python3",
      "display_name": "Python 3"
    },
    "language_info": {
      "name": "python"
    }
  },
  "cells": [
    {
      "cell_type": "code",
      "execution_count": null,
      "metadata": {
        "colab": {
          "base_uri": "https://localhost:8080/"
        },
        "id": "VI5O_xlcH2VW",
        "outputId": "08873e5b-ed7e-4e38-bf23-31c9c455620d"
      },
      "outputs": [
        {
          "output_type": "stream",
          "name": "stdout",
          "text": [
            "today is: 2022-08-23\n"
          ]
        }
      ],
      "source": [
        "import datetime as dt\n",
        "today= dt.date.today()\n",
        "print ('today is:',today)"
      ]
    },
    {
      "cell_type": "code",
      "source": [
        "bDay=int(input('what day of the months you were born in:'))\n",
        "bMonth=int(input('what months you were born in:'))\n",
        "bYear=int(input('what year were you born in:'))\n",
        "BD=dt.date(bYear,bMonth,bDay)\n",
        "print(\"you were born on:\",BD.strftime('%A %B %d %Y'))"
      ],
      "metadata": {
        "colab": {
          "base_uri": "https://localhost:8080/"
        },
        "id": "UX2PqO_4POZV",
        "outputId": "d16539eb-5f80-4559-8b27-2974fef285d7"
      },
      "execution_count": null,
      "outputs": [
        {
          "output_type": "stream",
          "name": "stdout",
          "text": [
            "what day of the months you were born in:15\n",
            "what months you were born in:6\n",
            "what year were you born in:2004\n",
            "you were born on: Tuesday June 15 2004\n"
          ]
        }
      ]
    },
    {
      "cell_type": "code",
      "source": [
        "import calendar\n",
        "print(calendar.calendar (1780))"
      ],
      "metadata": {
        "id": "QNua7bgtSV8-"
      },
      "execution_count": null,
      "outputs": []
    },
    {
      "cell_type": "code",
      "source": [],
      "metadata": {
        "id": "0D7RcNU0bZa4"
      },
      "execution_count": null,
      "outputs": []
    }
  ]
}